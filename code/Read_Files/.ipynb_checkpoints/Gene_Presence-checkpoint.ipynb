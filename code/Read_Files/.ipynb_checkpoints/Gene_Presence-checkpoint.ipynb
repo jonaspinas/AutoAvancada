{
 "cells": [
  {
   "cell_type": "code",
   "execution_count": 17,
   "id": "965aeb94-9bc6-40d3-a6e3-b7eb9a10acb1",
   "metadata": {},
   "outputs": [
    {
     "name": "stdout",
     "output_type": "stream",
     "text": [
      "50S ribosomal protein L33\n"
     ]
    }
   ],
   "source": [
    "import pandas as pd\n",
    "\n",
    "# Use raw string to correctly format the file path on Windows\n",
    "url = r'C:\\Users\\X521\\OneDrive - Universidade de Lisboa\\Ambiente de Trabalho\\tecnico\\Master\\Advanced Automation\\cenas\\AutoAvancada\\data\\raw\\outputRoary24_90\\gene_presence_absence.csv'\n",
    "\n",
    "# Read the CSV file from the local path\n",
    "df = pd.read_csv(url)\n",
    "\n",
    "# Function to get the annotation or function of a gene\n",
    "def get_gene_function(data, gene_name):\n",
    "    \"\"\"\n",
    "    Retrieve the function or annotation for a specified gene.\n",
    "\n",
    "    Parameters:\n",
    "    - data: pandas DataFrame containing the data.\n",
    "    - gene_name: The name of the gene to search for.\n",
    "\n",
    "    Returns:\n",
    "    - A string with the gene's function or annotation, or an error message.\n",
    "    \"\"\"\n",
    "    # Check if necessary columns exist\n",
    "    if \"Gene\" not in data.columns or \"Annotation\" not in data.columns:\n",
    "        return \"The necessary columns ('Gene' and 'Annotation') are missing in the data.\"\n",
    "    \n",
    "    # Search for the gene in the 'Gene' column\n",
    "    result = data[data['Gene'] == gene_name]\n",
    "    \n",
    "    if result.empty:\n",
    "        return f\"Gene '{gene_name}' not found in the dataset.\"\n",
    "    \n",
    "    # Return the annotation (function) of the gene\n",
    "    return result['Annotation'].iloc[0]\n",
    "\n",
    "# Example usage\n",
    "gene_name = \"rpmG\"  # Replace this with the gene you're searching for\n",
    "function = get_gene_function(df, gene_name)\n",
    "print(function)\n",
    "\n"
   ]
  },
  {
   "cell_type": "code",
   "execution_count": null,
   "id": "68f93f4b-4648-472f-aa67-105100726ee3",
   "metadata": {},
   "outputs": [],
   "source": []
  },
  {
   "cell_type": "code",
   "execution_count": null,
   "id": "85fbb4cc-2f2f-4584-b36a-875f82a24fa0",
   "metadata": {},
   "outputs": [],
   "source": []
  },
  {
   "cell_type": "code",
   "execution_count": null,
   "id": "a6361e5b-3a4a-45e0-8f8a-85b8bb75c0a8",
   "metadata": {},
   "outputs": [],
   "source": []
  },
  {
   "cell_type": "code",
   "execution_count": null,
   "id": "cc2ad7bc-2219-4621-84a7-ce2c65874c05",
   "metadata": {},
   "outputs": [],
   "source": []
  }
 ],
 "metadata": {
  "kernelspec": {
   "display_name": "Python 3 (ipykernel)",
   "language": "python",
   "name": "python3"
  },
  "language_info": {
   "codemirror_mode": {
    "name": "ipython",
    "version": 3
   },
   "file_extension": ".py",
   "mimetype": "text/x-python",
   "name": "python",
   "nbconvert_exporter": "python",
   "pygments_lexer": "ipython3",
   "version": "3.10.15"
  }
 },
 "nbformat": 4,
 "nbformat_minor": 5
}
